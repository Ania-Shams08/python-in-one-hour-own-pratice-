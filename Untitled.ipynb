{
 "cells": [
  {
   "cell_type": "code",
   "execution_count": 1,
   "id": "e7da0be0",
   "metadata": {},
   "outputs": [
    {
     "name": "stdout",
     "output_type": "stream",
     "text": [
      "helo world\n"
     ]
    }
   ],
   "source": [
    "#smiple printing a msg\n",
    "print(\"helo world\")"
   ]
  },
  {
   "cell_type": "code",
   "execution_count": 4,
   "id": "b70dd9ae",
   "metadata": {},
   "outputs": [
    {
     "name": "stdout",
     "output_type": "stream",
     "text": [
      "Ania shams, 20 bscs\n"
     ]
    }
   ],
   "source": [
    "#variables\n",
    "name = \"Ania shams,\"\n",
    "age = 20\n",
    "education = \"bscs\"\n",
    "print(name, age, education)"
   ]
  },
  {
   "cell_type": "code",
   "execution_count": 5,
   "id": "a69a8168",
   "metadata": {},
   "outputs": [
    {
     "name": "stdout",
     "output_type": "stream",
     "text": [
      "what is your nameania\n"
     ]
    },
    {
     "data": {
      "text/plain": [
       "'ania'"
      ]
     },
     "execution_count": 5,
     "metadata": {},
     "output_type": "execute_result"
    }
   ],
   "source": [
    "#taking input from your\n",
    "input(\"what is your name\")"
   ]
  },
  {
   "cell_type": "code",
   "execution_count": 7,
   "id": "0ea418a5",
   "metadata": {},
   "outputs": [
    {
     "name": "stdout",
     "output_type": "stream",
     "text": [
      "what is your name? ania\n",
      "hello ania\n"
     ]
    }
   ],
   "source": [
    "#string concatination \n",
    "name = input(\"what is your name? \")\n",
    "print(\"hello \" + name)"
   ]
  },
  {
   "cell_type": "code",
   "execution_count": 8,
   "id": "13698f81",
   "metadata": {},
   "outputs": [
    {
     "name": "stdout",
     "output_type": "stream",
     "text": [
      "enter your date of birth2003\n",
      "20\n"
     ]
    }
   ],
   "source": [
    "#type conversion\n",
    "birth_year = input(\"enter your date of birth\")\n",
    "int(birth_year)\n",
    "age = 2023 - int(birth_year)\n",
    "print(age)"
   ]
  },
  {
   "cell_type": "code",
   "execution_count": 9,
   "id": "39c5ec04",
   "metadata": {},
   "outputs": [],
   "source": [
    "# build in functions \n",
    "# int() float() boo() str()"
   ]
  },
  {
   "cell_type": "code",
   "execution_count": 11,
   "id": "07324dca",
   "metadata": {},
   "outputs": [
    {
     "name": "stdout",
     "output_type": "stream",
     "text": [
      "25\n"
     ]
    }
   ],
   "source": [
    "num1 = 5\n",
    "num2 = 20\n",
    "sum = num1 + num2\n",
    "print(sum)"
   ]
  },
  {
   "cell_type": "code",
   "execution_count": 19,
   "id": "f2ff0f4a",
   "metadata": {},
   "outputs": [
    {
     "name": "stdout",
     "output_type": "stream",
     "text": [
      "first 10\n",
      "second 10\n",
      "sum 20\n"
     ]
    }
   ],
   "source": [
    "num1 = input(\"first \")\n",
    "num2 = input(\"second \")\n",
    "sum = int(num1) + int(num2)\n",
    "print(\"sum\", sum)"
   ]
  },
  {
   "cell_type": "code",
   "execution_count": 20,
   "id": "7906ca31",
   "metadata": {},
   "outputs": [
    {
     "name": "stdout",
     "output_type": "stream",
     "text": [
      "PYTHON FOR BEGINNERS\n"
     ]
    }
   ],
   "source": [
    "# strings\n",
    "course = \"python for beginners\"\n",
    "print(course.upper())"
   ]
  },
  {
   "cell_type": "code",
   "execution_count": 21,
   "id": "05813f00",
   "metadata": {},
   "outputs": [
    {
     "name": "stdout",
     "output_type": "stream",
     "text": [
      "python for beginners\n"
     ]
    }
   ],
   "source": [
    "print(course.lower())"
   ]
  },
  {
   "cell_type": "code",
   "execution_count": 25,
   "id": "aa261318",
   "metadata": {},
   "outputs": [
    {
     "name": "stdout",
     "output_type": "stream",
     "text": [
      "9\n"
     ]
    }
   ],
   "source": [
    "print(course.find('r')) # find tells us the index number of letters in the sentence"
   ]
  },
  {
   "cell_type": "code",
   "execution_count": 26,
   "id": "916cbe51",
   "metadata": {},
   "outputs": [
    {
     "name": "stdout",
     "output_type": "stream",
     "text": [
      "python 4 beginners\n"
     ]
    }
   ],
   "source": [
    "print(course.replace('for', '4'))"
   ]
  },
  {
   "cell_type": "code",
   "execution_count": 31,
   "id": "39b5a7b8",
   "metadata": {},
   "outputs": [
    {
     "name": "stdout",
     "output_type": "stream",
     "text": [
      "0\n"
     ]
    }
   ],
   "source": [
    "print(course.find('python'))"
   ]
  },
  {
   "cell_type": "code",
   "execution_count": 30,
   "id": "16a32e1b",
   "metadata": {},
   "outputs": [
    {
     "name": "stdout",
     "output_type": "stream",
     "text": [
      "False\n"
     ]
    }
   ],
   "source": [
    "print('pythons' in course)  # in operator"
   ]
  },
  {
   "cell_type": "code",
   "execution_count": 29,
   "id": "4d07a782",
   "metadata": {},
   "outputs": [
    {
     "name": "stdout",
     "output_type": "stream",
     "text": [
      "True\n"
     ]
    }
   ],
   "source": [
    "print('python' in course)"
   ]
  },
  {
   "cell_type": "code",
   "execution_count": 35,
   "id": "18fdd821",
   "metadata": {},
   "outputs": [
    {
     "name": "stdout",
     "output_type": "stream",
     "text": [
      "23\n",
      "-10\n",
      "1.2\n",
      "0\n",
      "120\n",
      "121\n"
     ]
    }
   ],
   "source": [
    "# Arithmetic operators\n",
    "print(12+11)\n",
    "print(10-20)\n",
    "print(12/10)\n",
    "print(12%6)\n",
    "print(10*12)\n",
    "print(11 ** 2)"
   ]
  },
  {
   "cell_type": "code",
   "execution_count": 37,
   "id": "3d59ff1b",
   "metadata": {},
   "outputs": [
    {
     "name": "stdout",
     "output_type": "stream",
     "text": [
      "13\n"
     ]
    }
   ],
   "source": [
    "x = 10\n",
    "x += 3   # augumented assignment operators\n",
    "print(x)"
   ]
  },
  {
   "cell_type": "code",
   "execution_count": 38,
   "id": "842591de",
   "metadata": {},
   "outputs": [
    {
     "name": "stdout",
     "output_type": "stream",
     "text": [
      "22\n"
     ]
    }
   ],
   "source": [
    "# operator precedence \n",
    "x = 2 + 5 * 4 \n",
    "print(x)"
   ]
  },
  {
   "cell_type": "code",
   "execution_count": 41,
   "id": "6195c467",
   "metadata": {},
   "outputs": [
    {
     "name": "stdout",
     "output_type": "stream",
     "text": [
      "True\n"
     ]
    }
   ],
   "source": [
    "# comparision operators < <= > >= == !=\n",
    "x = 5>3\n",
    "print(x)"
   ]
  },
  {
   "cell_type": "code",
   "execution_count": 2,
   "id": "757ea0c3",
   "metadata": {},
   "outputs": [
    {
     "name": "stdout",
     "output_type": "stream",
     "text": [
      "True\n"
     ]
    }
   ],
   "source": [
    "# logical operators\n",
    "# and => returns true when both are true\n",
    "# or returns true if one is true\n",
    "# not inverses the given value\n",
    "price = 30\n",
    "print(price > 10 and price < 40)"
   ]
  },
  {
   "cell_type": "code",
   "execution_count": 3,
   "id": "34b19030",
   "metadata": {},
   "outputs": [
    {
     "name": "stdout",
     "output_type": "stream",
     "text": [
      "True\n"
     ]
    }
   ],
   "source": [
    "print(price > 12 or price < 40)"
   ]
  },
  {
   "cell_type": "code",
   "execution_count": 5,
   "id": "f9ac615f",
   "metadata": {},
   "outputs": [
    {
     "name": "stdout",
     "output_type": "stream",
     "text": [
      "False\n"
     ]
    }
   ],
   "source": [
    "print(not price > 12)"
   ]
  },
  {
   "cell_type": "code",
   "execution_count": 8,
   "id": "5eed2d28",
   "metadata": {},
   "outputs": [
    {
     "name": "stdout",
     "output_type": "stream",
     "text": [
      "it's hot day\n",
      "drink plenty of water\n"
     ]
    }
   ],
   "source": [
    "# IF statement\n",
    "temperature = 45                    # fulfiling the condition\n",
    "if temperature > 30:\n",
    "    print(\"it's hot day\")\n",
    "    print(\"drink plenty of water\")\n"
   ]
  },
  {
   "cell_type": "code",
   "execution_count": 9,
   "id": "b25a5750",
   "metadata": {},
   "outputs": [
    {
     "name": "stdout",
     "output_type": "stream",
     "text": [
      "it's pleasent whether\n"
     ]
    }
   ],
   "source": [
    "temperature = 20\n",
    "if temperature > 30:\n",
    "    print(\"its hot day\")\n",
    "\n",
    "elif temperature > 15:\n",
    "    print(\"it's pleasent whether\")"
   ]
  },
  {
   "cell_type": "code",
   "execution_count": 3,
   "id": "76119ebc",
   "metadata": {},
   "outputs": [
    {
     "name": "stdout",
     "output_type": "stream",
     "text": [
      "weight12\n",
      "(K)g or (L)bsL\n"
     ]
    },
    {
     "ename": "NameError",
     "evalue": "name 'converted' is not defined",
     "output_type": "error",
     "traceback": [
      "\u001b[1;31m---------------------------------------------------------------------------\u001b[0m",
      "\u001b[1;31mNameError\u001b[0m                                 Traceback (most recent call last)",
      "Cell \u001b[1;32mIn[3], line 3\u001b[0m\n\u001b[0;32m      1\u001b[0m my_weight \u001b[38;5;241m=\u001b[39m \u001b[38;5;28mint\u001b[39m(\u001b[38;5;28minput\u001b[39m(\u001b[38;5;124m\"\u001b[39m\u001b[38;5;124mweight\u001b[39m\u001b[38;5;124m\"\u001b[39m))\n\u001b[0;32m      2\u001b[0m unit \u001b[38;5;241m=\u001b[39m \u001b[38;5;28minput\u001b[39m(\u001b[38;5;124m\"\u001b[39m\u001b[38;5;124m(K)g or (L)bs\u001b[39m\u001b[38;5;124m\"\u001b[39m)\n\u001b[1;32m----> 3\u001b[0m converted\n\u001b[0;32m      4\u001b[0m \u001b[38;5;28;01mif\u001b[39;00m unit\u001b[38;5;241m.\u001b[39mupper() \u001b[38;5;241m==\u001b[39m \u001b[38;5;124m\"\u001b[39m\u001b[38;5;124mK\u001b[39m\u001b[38;5;124m\"\u001b[39m:\n\u001b[0;32m      5\u001b[0m     converted \u001b[38;5;241m==\u001b[39m weight \u001b[38;5;241m/\u001b[39m \u001b[38;5;241m0.45\u001b[39m\n",
      "\u001b[1;31mNameError\u001b[0m: name 'converted' is not defined"
     ]
    }
   ],
   "source": [
    "my_weight = int(input(\"weight\"))\n",
    "unit = input(\"(K)g or (L)bs\")\n",
    "if unit.upper() == \"K\":\n",
    "    converted == weight / 0.45\n",
    "    print(\"Weight in Lbs\" + str(converted))\n",
    "else:\n",
    "    converted = weight * 0.45\n",
    "    print(\"weight in Kgs:\" + str(converted))\n"
   ]
  },
  {
   "cell_type": "code",
   "execution_count": 9,
   "id": "d6d8c4b4",
   "metadata": {},
   "outputs": [
    {
     "name": "stdout",
     "output_type": "stream",
     "text": [
      "*\n",
      "**\n",
      "***\n",
      "****\n",
      "*****\n"
     ]
    }
   ],
   "source": [
    "# while loop it is use to itrate \n",
    "i = 1 \n",
    "while i <= 5:\n",
    "    print(i * \"*\")\n",
    "    i = i+1"
   ]
  },
  {
   "cell_type": "code",
   "execution_count": 10,
   "id": "3362dd9e",
   "metadata": {},
   "outputs": [
    {
     "data": {
      "text/plain": [
       "['john', 'bob', 'harry', 'sam', 'marry']"
      ]
     },
     "execution_count": 10,
     "metadata": {},
     "output_type": "execute_result"
    }
   ],
   "source": [
    "#list\n",
    "names = [\"john\", \"bob\", \"harry\", \"sam\", \"marry\"]\n",
    "names"
   ]
  },
  {
   "cell_type": "code",
   "execution_count": 11,
   "id": "ecf1b699",
   "metadata": {},
   "outputs": [
    {
     "name": "stdout",
     "output_type": "stream",
     "text": [
      "john\n"
     ]
    }
   ],
   "source": [
    "print(names[0])"
   ]
  },
  {
   "cell_type": "code",
   "execution_count": 12,
   "id": "32d25b9b",
   "metadata": {},
   "outputs": [
    {
     "name": "stdout",
     "output_type": "stream",
     "text": [
      "marry\n"
     ]
    }
   ],
   "source": [
    "print(names[-1])"
   ]
  },
  {
   "cell_type": "code",
   "execution_count": 14,
   "id": "330075d9",
   "metadata": {},
   "outputs": [
    {
     "name": "stdout",
     "output_type": "stream",
     "text": [
      "sam\n"
     ]
    }
   ],
   "source": [
    "print(names[-2])"
   ]
  },
  {
   "cell_type": "code",
   "execution_count": 15,
   "id": "51ed758b",
   "metadata": {},
   "outputs": [
    {
     "data": {
      "text/plain": [
       "['jon', 'bob', 'harry', 'sam', 'marry']"
      ]
     },
     "execution_count": 15,
     "metadata": {},
     "output_type": "execute_result"
    }
   ],
   "source": [
    "names[0] = \"jon\"\n",
    "names"
   ]
  },
  {
   "cell_type": "code",
   "execution_count": 16,
   "id": "a642f281",
   "metadata": {},
   "outputs": [
    {
     "name": "stdout",
     "output_type": "stream",
     "text": [
      "['jon', 'bob', 'harry']\n"
     ]
    }
   ],
   "source": [
    "print(names[0:3])"
   ]
  },
  {
   "cell_type": "code",
   "execution_count": 17,
   "id": "6688bc82",
   "metadata": {},
   "outputs": [
    {
     "data": {
      "text/plain": [
       "[1, 2, 3, 4, 5]"
      ]
     },
     "execution_count": 17,
     "metadata": {},
     "output_type": "execute_result"
    }
   ],
   "source": [
    "number = [1, 2, 3, 4, 5]\n",
    "number"
   ]
  },
  {
   "cell_type": "code",
   "execution_count": 21,
   "id": "ec367b30",
   "metadata": {},
   "outputs": [
    {
     "data": {
      "text/plain": [
       "[1, 2, 3, 4, 5, 6, 6, 6, 6]"
      ]
     },
     "execution_count": 21,
     "metadata": {},
     "output_type": "execute_result"
    }
   ],
   "source": [
    "#list methods\n",
    "number.append(6)\n",
    "number"
   ]
  },
  {
   "cell_type": "code",
   "execution_count": 22,
   "id": "315c3bb1",
   "metadata": {},
   "outputs": [
    {
     "data": {
      "text/plain": [
       "[-1, 1, 2, 3, 4, 5, 6, 6, 6, 6]"
      ]
     },
     "execution_count": 22,
     "metadata": {},
     "output_type": "execute_result"
    }
   ],
   "source": [
    "number.insert(0, -1)\n",
    "number"
   ]
  },
  {
   "cell_type": "code",
   "execution_count": 23,
   "id": "cbf721be",
   "metadata": {},
   "outputs": [
    {
     "data": {
      "text/plain": [
       "[-1, 1, 2, 3, 4, 5, 6, 6, 6]"
      ]
     },
     "execution_count": 23,
     "metadata": {},
     "output_type": "execute_result"
    }
   ],
   "source": [
    "number.remove(6)\n",
    "number"
   ]
  },
  {
   "cell_type": "code",
   "execution_count": 24,
   "id": "c2438130",
   "metadata": {},
   "outputs": [
    {
     "data": {
      "text/plain": [
       "[]"
      ]
     },
     "execution_count": 24,
     "metadata": {},
     "output_type": "execute_result"
    }
   ],
   "source": [
    "number.clear()\n",
    "number"
   ]
  },
  {
   "cell_type": "code",
   "execution_count": 25,
   "id": "d297f72d",
   "metadata": {},
   "outputs": [
    {
     "name": "stdout",
     "output_type": "stream",
     "text": [
      "False\n"
     ]
    }
   ],
   "source": [
    "print(1 in number)"
   ]
  },
  {
   "cell_type": "code",
   "execution_count": 26,
   "id": "ce6cfed5",
   "metadata": {},
   "outputs": [
    {
     "name": "stdout",
     "output_type": "stream",
     "text": [
      "0\n"
     ]
    }
   ],
   "source": [
    "print(len(number))"
   ]
  },
  {
   "cell_type": "code",
   "execution_count": 1,
   "id": "04aa3c17",
   "metadata": {},
   "outputs": [
    {
     "name": "stdout",
     "output_type": "stream",
     "text": [
      "1\n",
      "2\n",
      "3\n",
      "4\n",
      "5\n"
     ]
    }
   ],
   "source": [
    "# for loop\n",
    "numbers = [1, 2, 3, 4, 5]\n",
    "for item in numbers:\n",
    "    print(item)\n"
   ]
  },
  {
   "cell_type": "code",
   "execution_count": 4,
   "id": "a22cee8f",
   "metadata": {},
   "outputs": [
    {
     "name": "stdout",
     "output_type": "stream",
     "text": [
      "0\n",
      "1\n",
      "2\n",
      "3\n",
      "4\n"
     ]
    }
   ],
   "source": [
    "# range function generate sequnce of numbers\n",
    "numbers = range(5)\n",
    "for number in numbers:\n",
    "    print(number)\n"
   ]
  },
  {
   "cell_type": "code",
   "execution_count": 6,
   "id": "538d5567",
   "metadata": {},
   "outputs": [
    {
     "name": "stdout",
     "output_type": "stream",
     "text": [
      "5\n",
      "6\n",
      "7\n",
      "8\n",
      "9\n"
     ]
    }
   ],
   "source": [
    "numbers = range(5, 10)\n",
    "for number in numbers:\n",
    "    print(number)"
   ]
  },
  {
   "cell_type": "code",
   "execution_count": 7,
   "id": "94c9ec6f",
   "metadata": {},
   "outputs": [
    {
     "name": "stdout",
     "output_type": "stream",
     "text": [
      "1\n",
      "3\n",
      "5\n",
      "7\n",
      "9\n"
     ]
    }
   ],
   "source": [
    "numbers = range(1, 11, 2)\n",
    "for number in numbers:\n",
    "    print(number)"
   ]
  },
  {
   "cell_type": "code",
   "execution_count": 8,
   "id": "8f8ef16c",
   "metadata": {},
   "outputs": [
    {
     "name": "stdout",
     "output_type": "stream",
     "text": [
      "0\n",
      "1\n",
      "2\n",
      "3\n",
      "4\n"
     ]
    }
   ],
   "source": [
    "# instead ofabove three 3 we can do\n",
    "for number in range(5):\n",
    "    print(number)"
   ]
  },
  {
   "cell_type": "code",
   "execution_count": 13,
   "id": "dcccd3ea",
   "metadata": {},
   "outputs": [
    {
     "name": "stdout",
     "output_type": "stream",
     "text": [
      "(1, 2, 3, 4, 4)\n"
     ]
    }
   ],
   "source": [
    "#tuples same like list\n",
    "numbers = (1, 2, 3, 4, 4)\n",
    "print(numbers)"
   ]
  },
  {
   "cell_type": "code",
   "execution_count": 16,
   "id": "a907cb65",
   "metadata": {},
   "outputs": [
    {
     "data": {
      "text/plain": [
       "0"
      ]
     },
     "execution_count": 16,
     "metadata": {},
     "output_type": "execute_result"
    }
   ],
   "source": [
    "numbers.index(1)"
   ]
  },
  {
   "cell_type": "code",
   "execution_count": 15,
   "id": "bb6fefba",
   "metadata": {},
   "outputs": [
    {
     "data": {
      "text/plain": [
       "2"
      ]
     },
     "execution_count": 15,
     "metadata": {},
     "output_type": "execute_result"
    }
   ],
   "source": [
    "numbers.count(4)"
   ]
  },
  {
   "cell_type": "code",
   "execution_count": null,
   "id": "7bafefe7",
   "metadata": {},
   "outputs": [],
   "source": []
  }
 ],
 "metadata": {
  "kernelspec": {
   "display_name": "Python 3 (ipykernel)",
   "language": "python",
   "name": "python3"
  },
  "language_info": {
   "codemirror_mode": {
    "name": "ipython",
    "version": 3
   },
   "file_extension": ".py",
   "mimetype": "text/x-python",
   "name": "python",
   "nbconvert_exporter": "python",
   "pygments_lexer": "ipython3",
   "version": "3.11.5"
  }
 },
 "nbformat": 4,
 "nbformat_minor": 5
}
